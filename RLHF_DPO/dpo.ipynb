{
 "cells": [
  {
   "cell_type": "markdown",
   "metadata": {},
   "source": [
    "#### DPO Data Generation with difflib"
   ]
  },
  {
   "cell_type": "code",
   "execution_count": 3,
   "metadata": {},
   "outputs": [],
   "source": [
    "import torch\n",
    "from transformers import AutoTokenizer, AutoModelForCausalLM\n",
    "from Levenshtein import distance as levenshtein_distance\n",
    "\n",
    "def generate_variants(model, tokenizer, input_text, num_variants=2, temperature=0.7, top_k=50):\n",
    "    input_ids = tokenizer.encode(input_text, return_tensors=\"pt\")\n",
    "    \n",
    "    outputs = []\n",
    "    for _ in range(num_variants):\n",
    "        output = model.generate(\n",
    "            input_ids, \n",
    "            max_length=100,\n",
    "            do_sample=True,\n",
    "            temperature=temperature,\n",
    "            top_k=top_k,\n",
    "            num_return_sequences=1\n",
    "        )\n",
    "        decoded_output = tokenizer.decode(output[0], skip_special_tokens=True)\n",
    "        outputs.append(decoded_output)\n",
    "    \n",
    "    return outputs\n",
    "\n",
    "def create_dpo_dataset(data, model, tokenizer):\n",
    "    dpo_data = []\n",
    "    \n",
    "    for item in data:\n",
    "        input_text = item['instruction'] + ('\\n' + item['input'] if item['input'] else '')\n",
    "        ground_truth = item['output']\n",
    "        \n",
    "        variants = generate_variants(model, tokenizer, input_text)\n",
    "        \n",
    "        distances = [levenshtein_distance(v, ground_truth) for v in variants]\n",
    "        \n",
    "        if distances[0] <= distances[1]:\n",
    "            chosen, rejected = variants[0], variants[1]\n",
    "        else:\n",
    "            chosen, rejected = variants[1], variants[0]\n",
    "        \n",
    "        dpo_data.append({\n",
    "            'prompt': input_text,\n",
    "            'chosen': chosen,\n",
    "            'rejected': rejected,\n",
    "            'ground_truth': ground_truth\n",
    "        })\n",
    "    \n",
    "    return dpo_data"
   ]
  },
  {
   "cell_type": "code",
   "execution_count": null,
   "metadata": {},
   "outputs": [],
   "source": []
  }
 ],
 "metadata": {
  "language_info": {
   "name": "python"
  }
 },
 "nbformat": 4,
 "nbformat_minor": 2
}
